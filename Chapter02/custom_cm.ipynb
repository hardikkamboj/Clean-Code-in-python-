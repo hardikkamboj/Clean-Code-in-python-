{
  "nbformat": 4,
  "nbformat_minor": 0,
  "metadata": {
    "colab": {
      "name": "custom_cm.ipynb",
      "provenance": [],
      "collapsed_sections": [],
      "authorship_tag": "ABX9TyMW/h4urNPp01b8TnfG5zzX",
      "include_colab_link": true
    },
    "kernelspec": {
      "name": "python3",
      "display_name": "Python 3"
    },
    "language_info": {
      "name": "python"
    }
  },
  "cells": [
    {
      "cell_type": "markdown",
      "metadata": {
        "id": "view-in-github",
        "colab_type": "text"
      },
      "source": [
        "<a href=\"https://colab.research.google.com/github/hardikkamboj/Clean-Code-in-python-/blob/main/Chapter02/custom_cm.ipynb\" target=\"_parent\"><img src=\"https://colab.research.google.com/assets/colab-badge.svg\" alt=\"Open In Colab\"/></a>"
      ]
    },
    {
      "cell_type": "code",
      "metadata": {
        "id": "TpFrOYosAK59"
      },
      "source": [
        "class Open_File(): \n",
        "\n",
        "  def __init__(self, filename, mode): \n",
        "    self.filename = filename\n",
        "    self.mode = mode \n",
        "    print('This function is initialized')\n",
        "\n",
        "  def __enter__(self): \n",
        "    self.file = open(self.filename, self.mode)\n",
        "    print('We are inside enter')\n",
        "\n",
        "    return self.file \n",
        "\n",
        "  def __exit__(self, exc_type, exc_val, trackback):\n",
        "    self.file.close()\n",
        "    print('We are inside exit')"
      ],
      "execution_count": 14,
      "outputs": []
    },
    {
      "cell_type": "code",
      "metadata": {
        "colab": {
          "base_uri": "https://localhost:8080/"
        },
        "id": "4QS7XoCZLVZq",
        "outputId": "9e3cce73-be68-4d8c-b59e-7d8acd61163c"
      },
      "source": [
        "with Open_File('temp.txt','w') as f: \n",
        "  f.write('Hello, this is me')"
      ],
      "execution_count": 15,
      "outputs": [
        {
          "output_type": "stream",
          "text": [
            "This function is initialized\n",
            "We are inside enter\n",
            "We are inside exit\n"
          ],
          "name": "stdout"
        }
      ]
    },
    {
      "cell_type": "code",
      "metadata": {
        "colab": {
          "base_uri": "https://localhost:8080/"
        },
        "id": "dbGvbdoiLfKc",
        "outputId": "18d750ed-84e3-4a10-9d86-f98cabc9f47d"
      },
      "source": [
        "f.closed"
      ],
      "execution_count": 16,
      "outputs": [
        {
          "output_type": "execute_result",
          "data": {
            "text/plain": [
              "True"
            ]
          },
          "metadata": {
            "tags": []
          },
          "execution_count": 16
        }
      ]
    },
    {
      "cell_type": "code",
      "metadata": {
        "id": "uqpiURSzLhtB"
      },
      "source": [
        ""
      ],
      "execution_count": null,
      "outputs": []
    }
  ]
}