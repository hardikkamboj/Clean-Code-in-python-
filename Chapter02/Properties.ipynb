{
  "nbformat": 4,
  "nbformat_minor": 0,
  "metadata": {
    "colab": {
      "name": "Properties.ipynb",
      "provenance": [],
      "authorship_tag": "ABX9TyPCkzY8jCBc2TiUFmoenB5o",
      "include_colab_link": true
    },
    "kernelspec": {
      "name": "python3",
      "display_name": "Python 3"
    },
    "language_info": {
      "name": "python"
    }
  },
  "cells": [
    {
      "cell_type": "markdown",
      "metadata": {
        "id": "view-in-github",
        "colab_type": "text"
      },
      "source": [
        "<a href=\"https://colab.research.google.com/github/hardikkamboj/Clean-Code-in-python-/blob/main/Chapter02/Properties.ipynb\" target=\"_parent\"><img src=\"https://colab.research.google.com/assets/colab-badge.svg\" alt=\"Open In Colab\"/></a>"
      ]
    },
    {
      "cell_type": "code",
      "metadata": {
        "id": "HIGjeMlyEYfu"
      },
      "source": [
        "import re\n",
        "\n",
        "EMAIL_FORMAT = re.compile(r\"[^@]+@[^@]+\\.[^@]+\")\n",
        "\n",
        "\n",
        "def is_valid_email(potentially_valid_email: str):\n",
        "    return re.match(EMAIL_FORMAT, potentially_valid_email) is not None\n",
        "\n",
        "\n",
        "class User:\n",
        "    def __init__(self, username):\n",
        "        self.username = username\n",
        "        self._email = None\n",
        "\n",
        "    @property\n",
        "    def email(self):\n",
        "        return self._email\n",
        "\n",
        "    @email.setter\n",
        "    def email(self, new_email):\n",
        "        if not is_valid_email(new_email):\n",
        "            raise ValueError(\n",
        "                f\"Can't set {new_email} as it's not a valid email\"\n",
        "            )\n",
        "        self._email = new_email"
      ],
      "execution_count": 1,
      "outputs": []
    },
    {
      "cell_type": "code",
      "metadata": {
        "id": "O324VHYEEd_h"
      },
      "source": [
        "hardik = User('hk')"
      ],
      "execution_count": 2,
      "outputs": []
    },
    {
      "cell_type": "code",
      "metadata": {
        "id": "9NAgVR1oEp8R"
      },
      "source": [
        "hardik.email = 'hardikkamboj1@gmail.com'"
      ],
      "execution_count": 3,
      "outputs": []
    },
    {
      "cell_type": "code",
      "metadata": {
        "colab": {
          "base_uri": "https://localhost:8080/",
          "height": 300
        },
        "id": "1KLAo0lAEuEx",
        "outputId": "740a5652-97ef-4874-e884-f76d4d24799c"
      },
      "source": [
        "test = User(\"TestUser\")\n",
        "test.email = \"unvalid\""
      ],
      "execution_count": 4,
      "outputs": [
        {
          "output_type": "error",
          "ename": "ValueError",
          "evalue": "ignored",
          "traceback": [
            "\u001b[0;31m---------------------------------------------------------------------------\u001b[0m",
            "\u001b[0;31mValueError\u001b[0m                                Traceback (most recent call last)",
            "\u001b[0;32m<ipython-input-4-587245dc7be6>\u001b[0m in \u001b[0;36m<module>\u001b[0;34m()\u001b[0m\n\u001b[1;32m      1\u001b[0m \u001b[0mtest\u001b[0m \u001b[0;34m=\u001b[0m \u001b[0mUser\u001b[0m\u001b[0;34m(\u001b[0m\u001b[0;34m\"TestUser\"\u001b[0m\u001b[0;34m)\u001b[0m\u001b[0;34m\u001b[0m\u001b[0;34m\u001b[0m\u001b[0m\n\u001b[0;32m----> 2\u001b[0;31m \u001b[0mtest\u001b[0m\u001b[0;34m.\u001b[0m\u001b[0memail\u001b[0m \u001b[0;34m=\u001b[0m \u001b[0;34m\"unvalid\"\u001b[0m\u001b[0;34m\u001b[0m\u001b[0;34m\u001b[0m\u001b[0m\n\u001b[0m",
            "\u001b[0;32m<ipython-input-1-777a5c5c8775>\u001b[0m in \u001b[0;36memail\u001b[0;34m(self, new_email)\u001b[0m\n\u001b[1;32m     21\u001b[0m         \u001b[0;32mif\u001b[0m \u001b[0;32mnot\u001b[0m \u001b[0mis_valid_email\u001b[0m\u001b[0;34m(\u001b[0m\u001b[0mnew_email\u001b[0m\u001b[0;34m)\u001b[0m\u001b[0;34m:\u001b[0m\u001b[0;34m\u001b[0m\u001b[0;34m\u001b[0m\u001b[0m\n\u001b[1;32m     22\u001b[0m             raise ValueError(\n\u001b[0;32m---> 23\u001b[0;31m                 \u001b[0;34mf\"Can't set {new_email} as it's not a valid email\"\u001b[0m\u001b[0;34m\u001b[0m\u001b[0;34m\u001b[0m\u001b[0m\n\u001b[0m\u001b[1;32m     24\u001b[0m             )\n\u001b[1;32m     25\u001b[0m         \u001b[0mself\u001b[0m\u001b[0;34m.\u001b[0m\u001b[0m_email\u001b[0m \u001b[0;34m=\u001b[0m \u001b[0mnew_email\u001b[0m\u001b[0;34m\u001b[0m\u001b[0;34m\u001b[0m\u001b[0m\n",
            "\u001b[0;31mValueError\u001b[0m: Can't set unvalid as it's not a valid email"
          ]
        }
      ]
    },
    {
      "cell_type": "code",
      "metadata": {
        "id": "89CCWxM2Ezk4"
      },
      "source": [
        ""
      ],
      "execution_count": null,
      "outputs": []
    }
  ]
}