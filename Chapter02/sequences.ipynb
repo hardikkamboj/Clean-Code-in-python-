{
  "nbformat": 4,
  "nbformat_minor": 0,
  "metadata": {
    "colab": {
      "name": "sequences.ipynb",
      "provenance": [],
      "authorship_tag": "ABX9TyOEViL7v3xi3lYBEgO57UZc",
      "include_colab_link": true
    },
    "kernelspec": {
      "name": "python3",
      "display_name": "Python 3"
    },
    "language_info": {
      "name": "python"
    }
  },
  "cells": [
    {
      "cell_type": "markdown",
      "metadata": {
        "id": "view-in-github",
        "colab_type": "text"
      },
      "source": [
        "<a href=\"https://colab.research.google.com/github/hardikkamboj/Clean-Code-in-python-/blob/main/Chapter02/sequences.ipynb\" target=\"_parent\"><img src=\"https://colab.research.google.com/assets/colab-badge.svg\" alt=\"Open In Colab\"/></a>"
      ]
    },
    {
      "cell_type": "code",
      "metadata": {
        "id": "-FtCdmUt_z9i"
      },
      "source": [
        "class Items:\n",
        "    def __init__(self, *values):\n",
        "        self._values = list(values)\n",
        "\n",
        "    def __len__(self):\n",
        "        return len(self._values)\n",
        "\n",
        "    def __getitem__(self, item):\n",
        "        return self._values.__getitem__(item)"
      ],
      "execution_count": 1,
      "outputs": []
    },
    {
      "cell_type": "code",
      "metadata": {
        "id": "42fibBcZ_3jB"
      },
      "source": [
        "seq = Items(1,2,3,4,5)"
      ],
      "execution_count": 2,
      "outputs": []
    },
    {
      "cell_type": "code",
      "metadata": {
        "colab": {
          "base_uri": "https://localhost:8080/"
        },
        "id": "1eSjwSic_8_L",
        "outputId": "65fdf176-df42-4070-e53d-bbe4087f3f4c"
      },
      "source": [
        "seq"
      ],
      "execution_count": 3,
      "outputs": [
        {
          "output_type": "execute_result",
          "data": {
            "text/plain": [
              "<__main__.Items at 0x7f904befb4d0>"
            ]
          },
          "metadata": {
            "tags": []
          },
          "execution_count": 3
        }
      ]
    },
    {
      "cell_type": "code",
      "metadata": {
        "colab": {
          "base_uri": "https://localhost:8080/"
        },
        "id": "3q8OfZPv_9eb",
        "outputId": "ed4d3a0d-fcc7-4876-b92b-737a0f26aa79"
      },
      "source": [
        "seq[0]"
      ],
      "execution_count": 4,
      "outputs": [
        {
          "output_type": "execute_result",
          "data": {
            "text/plain": [
              "1"
            ]
          },
          "metadata": {
            "tags": []
          },
          "execution_count": 4
        }
      ]
    },
    {
      "cell_type": "code",
      "metadata": {
        "colab": {
          "base_uri": "https://localhost:8080/"
        },
        "id": "QdREZhmuACW8",
        "outputId": "52277508-5c92-44b2-dea7-1db29c778051"
      },
      "source": [
        "type(seq)"
      ],
      "execution_count": 5,
      "outputs": [
        {
          "output_type": "execute_result",
          "data": {
            "text/plain": [
              "__main__.Items"
            ]
          },
          "metadata": {
            "tags": []
          },
          "execution_count": 5
        }
      ]
    },
    {
      "cell_type": "code",
      "metadata": {
        "colab": {
          "base_uri": "https://localhost:8080/"
        },
        "id": "ccvVB235AE0M",
        "outputId": "735f73ac-6034-4ec3-ed51-99e740515658"
      },
      "source": [
        "seq[2:4]"
      ],
      "execution_count": 6,
      "outputs": [
        {
          "output_type": "execute_result",
          "data": {
            "text/plain": [
              "[3, 4]"
            ]
          },
          "metadata": {
            "tags": []
          },
          "execution_count": 6
        }
      ]
    },
    {
      "cell_type": "code",
      "metadata": {
        "colab": {
          "base_uri": "https://localhost:8080/"
        },
        "id": "YjKI4Rd4AJOw",
        "outputId": "648d3d06-6ada-49ee-ff07-9e146c23e347"
      },
      "source": [
        "type(seq[2:4])"
      ],
      "execution_count": 7,
      "outputs": [
        {
          "output_type": "execute_result",
          "data": {
            "text/plain": [
              "list"
            ]
          },
          "metadata": {
            "tags": []
          },
          "execution_count": 7
        }
      ]
    },
    {
      "cell_type": "code",
      "metadata": {
        "id": "TpFrOYosAK59"
      },
      "source": [
        ""
      ],
      "execution_count": null,
      "outputs": []
    }
  ]
}